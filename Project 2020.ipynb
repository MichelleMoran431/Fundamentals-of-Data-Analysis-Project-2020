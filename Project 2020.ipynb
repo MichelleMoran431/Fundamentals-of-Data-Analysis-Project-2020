{
 "cells": [
  {
   "cell_type": "markdown",
   "metadata": {},
   "source": [
    "Fundamentals of Data Analysis Project 2020\n",
    "\n",
    "Student : Michelle Moran \n",
    "\n",
    "Task details : \n",
    "\n",
    "\n",
    "Perform and explain simple linear regression using Python on the powerproduction dataset\n",
    "\n",
    "Goal : Accurately predict wind turbine output from wind speed values using the data set as a basis.\n",
    "Using GIT repository  for the submission including the following items : \n",
    "\n",
    "1. Jupyter notebook that performs simple linear regression on the data set\n",
    "2. An explanation of your regression and an analysis of the accuracy\n",
    "3. Standard items in a git repository such as a README\n",
    "4. Compare a simple linear regression to other types of regression on this data set\n"
   ]
  },
  {
   "cell_type": "markdown",
   "metadata": {},
   "source": [
    "<br>\n",
    "\n",
    "The Powerproduction Dataset \n",
    "\n",
    ".........\n"
   ]
  },
  {
   "attachments": {
    "residuals%5B1%5D.png": {
     "image/png": "[encoded data removed]"
    }
   },
   "cell_type": "markdown",
   "metadata": {},
   "source": [
    "### 1.Introduction  [6]\n",
    "\n",
    "For this project , We will start/ use a simple linear regression to determine whether it can fit the particular type of curve in the dataset. \n",
    "\n",
    "Simple linear regression is a statistical model that allows us to summarize and study relationships between 2 continuous variables. In our dataset case the powerproduction of wine turbines,  the variables are wind speed and the turbine power output.\n",
    "\n",
    "#### Variables defined :\n",
    "\n",
    "X variable is wind speed and this can be regarded as the predictor or independent variable\n",
    "Y variable is the response or dependent variable and here it represents the power output of the turbine.\n",
    "\n",
    "While linear regression can model curves , it is relatively restricted in the shapes of the curves that it can fit. If the curve isnt an accurate fit , a non linear regression can be examined , where there are many more options of curves  to find the best fit and to interpret the role of the independent variables. Also must be aware in regression of underfitting and overfitting a line to datapoints. \n",
    "\n",
    "#### Correlation\n",
    "By analyzing any two features of a dataset such as wind speed and power , there will some sort of Correlation , albeit negative , postive , or weak versions of these. There are three examples of correlation coefficients : \n",
    "\n",
    "   - Pearson’s r  - measures linear correlation between 2 variables, value of +1 ( total positive linear )and -1 ( total   negative linear) and 0- no correlation.\n",
    " - Spearman’s rho - measures monotonic relationships ( whether linear or not). Compares the ranks of data \n",
    " - Kendall’s tau - measures the ordinal association between two measured quantities.Compares the ranks of data\n",
    "\n",
    "\n",
    "\n",
    "\n",
    "There are 4 assumptions of linear regression : \n",
    "\n",
    "1. Linear Relationship : \n",
    "\n",
    "Is there a linear relationship between the independent variable x, and the dependent variable , y ? \n",
    "\n",
    "In order to determine this we create a scatter plot of x vs y. So for the dataset powerproduction , we created a scatter plot between the wind speed and power. We see that the points on the plot do not fall on a straight line which indicates that it is not a linear relationship but that there is a relationship between the two variables. There are two options here  : \n",
    "\n",
    "   -  To apply a nonlinear transformation to the independent and/or dependent variables. examples include taking the log or squareroot of either variable\n",
    " - Add another independent variable to the model\n",
    " \n",
    " \n",
    "2. Independence\n",
    "\n",
    "Are the residuals independent? \n",
    "\n",
    "When a simple linear regression is done, you get a line of best fit. The points dont fall exactly on the regression line , they are scatter about. A residual is the difference between the observed value and the mean value that the model predicts for that observation , negative if its below , positive if above and it zero residual if its on the line itself. Residuals are sometimes referred to as errors , which is an unexplained difference between the datapoint and the line. \n",
    "\n",
    " ![residuals%5B1%5D.png](attachment:residuals%5B1%5D.png)\n",
    "\n",
    "3. Homoscedasticity\n",
    "\n",
    "Do the residuals have a constant variance at every level of x ? The opposite case to this is called heteroscedastivity and the results of the analysis become hard to trust, as it increases the variance of the regression coefficient estimates.\n",
    "To detect this , a fitted value vs, residual plot is create. If you see a cone shape in the results were the residuals spread out as the fitted value increases . To overcome this : \n",
    "\n",
    " - Transform the dependent variable : taking the log of the dependent variable for example\n",
    " - Redefine the dependent variable\n",
    " - use a weighted regression\n",
    " \n",
    " 4. Normality\n",
    " \n",
    " Are the residuals normally distributed ?\n",
    " \n",
    " This can be checked using Q-Q plots or using formal statiscal tests like Shapiro-Wilk ( sensitive to larger sample sizes). \n",
    "\n",
    "\n",
    "\n",
    "\n",
    "\n",
    "Along with simple linear regression, we have multiple linear regression which has two or more independent variables and polynomial regression which is a generalised case of linear regression.\n",
    "\n",
    "Im going to use 6 steps to build a Simple Linear Regression Model : \n",
    "\n",
    "Step 1. Importing the dataset\n",
    "Step 2. Data Pre-processing\n",
    "Step 3. Visualize the data\n",
    "Step 4. Fitting the linear regression model to the training sets"
   ]
  },
  {
   "cell_type": "markdown",
   "metadata": {},
   "source": [
    "#### Step 1 Importing the PowerProduction Dataset \n",
    "\n",
    "Import the pandas library - this provides a easy to use data structures and data analysis tools"
   ]
  },
  {
   "cell_type": "code",
   "execution_count": 12,
   "metadata": {
    "scrolled": true
   },
   "outputs": [
    {
     "data": {
      "text/plain": [
       "<bound method NDFrame.describe of       speed  power\n",
       "0     0.000    0.0\n",
       "1     0.125    0.0\n",
       "2     0.150    0.0\n",
       "3     0.225    0.0\n",
       "4     0.275    0.0\n",
       "..      ...    ...\n",
       "495  24.775    0.0\n",
       "496  24.850    0.0\n",
       "497  24.875    0.0\n",
       "498  24.950    0.0\n",
       "499  25.000    0.0\n",
       "\n",
       "[500 rows x 2 columns]>"
      ]
     },
     "execution_count": 12,
     "metadata": {},
     "output_type": "execute_result"
    }
   ],
   "source": [
    "import pandas as pd\n",
    "dfpower =pd.read_csv(\"https://raw.githubusercontent.com/ianmcloughlin/2020A-machstat-project/master/dataset/powerproduction.csv\")\n",
    "dfpower[0:6]\n",
    "\n",
    "#dfpower.shape\n",
    "dfpower.describe\n"
   ]
  },
  {
   "cell_type": "markdown",
   "metadata": {},
   "source": [
    "#### Step 2 Data pre-processing [8]\n",
    "\n",
    "This is not necessary for this dataset - However we did examine the data to see if there was any outliers using scipy-stats .Using Z- scores and interquartile range methods to check if outliers are present.\n",
    "\n",
    "Conclusion : \n",
    "\n",
    "Using both methods resulted in the same conclusion , there was no outliers present to remove from the data as the shape returned ( 500,2) for all."
   ]
  },
  {
   "cell_type": "code",
   "execution_count": 56,
   "metadata": {},
   "outputs": [
    {
     "data": {
      "text/plain": [
       "(500, 2)"
      ]
     },
     "execution_count": 56,
     "metadata": {},
     "output_type": "execute_result"
    }
   ],
   "source": [
    "import scipy.stats as stats\n",
    "\n",
    "#find absolute value of z-score for each observation\n",
    "z = np.abs(stats.zscore(dfpower))\n",
    "\n",
    "\n",
    "#only keep rows in dataframe with all z-scores less than absolute value of 3 \n",
    "data_clean = dfpower[(z<3).all(axis=1)]\n",
    "\n",
    "#find how many rows are left in the dataframe \n",
    "data_clean.shape"
   ]
  },
  {
   "cell_type": "code",
   "execution_count": 46,
   "metadata": {},
   "outputs": [
    {
     "data": {
      "text/plain": [
       "(500, 2)"
      ]
     },
     "execution_count": 46,
     "metadata": {},
     "output_type": "execute_result"
    }
   ],
   "source": [
    "#find Q1, Q3, and interquartile range for each column\n",
    "Q1 = dfpower.quantile(q=.25)\n",
    "Q3 = dfpower.quantile(q=.75)\n",
    "IQR = dfpower.apply(stats.iqr)\n",
    "\n",
    "#only keep rows in dataframe that have values within 1.5*IQR of Q1 and Q3\n",
    "data_clean = dfpower[~((dfpower < (Q1-1.5*IQR)) | (dfpower > (Q3+1.5*IQR))).any(axis=1)]\n",
    "\n",
    "#find how many rows are left in the dataframe \n",
    "data_clean.shape"
   ]
  },
  {
   "cell_type": "markdown",
   "metadata": {},
   "source": [
    "### Step 3: Visualizing the test results"
   ]
  },
  {
   "cell_type": "code",
   "execution_count": null,
   "metadata": {},
   "outputs": [],
   "source": []
  },
  {
   "cell_type": "markdown",
   "metadata": {},
   "source": [
    "#### Visualise the Data - scatterplot to get an understanding of the data\n",
    "\n",
    "Import matplotlib.pyplot "
   ]
  },
  {
   "cell_type": "code",
   "execution_count": 88,
   "metadata": {
    "scrolled": false
   },
   "outputs": [
    {
     "data": {
      "image/png": "[encoded data removed]",
      "text/plain": [
       "<Figure size 432x288 with 1 Axes>"
      ]
     },
     "metadata": {
      "needs_background": "light"
     },
     "output_type": "display_data"
    },
    {
     "data": {
      "text/plain": [
       "<Figure size 1440x720 with 0 Axes>"
      ]
     },
     "execution_count": 88,
     "metadata": {},
     "output_type": "execute_result"
    },
    {
     "data": {
      "text/plain": [
       "<Figure size 1440x720 with 0 Axes>"
      ]
     },
     "metadata": {},
     "output_type": "display_data"
    }
   ],
   "source": [
    "import scipy.stats\n",
    "import matplotlib.pyplot as plt\n",
    "\n",
    "plt.scatter(dfpower.speed, dfpower.power)\n",
    "plt.title('Power vs. Wind speed')\n",
    "plt.xlabel('Speed')\n",
    "plt.ylabel('Power')\n",
    "plt.show()\n",
    "\n",
    "plt.figure(figsize=(20,10))\n",
    "\n"
   ]
  },
  {
   "cell_type": "markdown",
   "metadata": {},
   "source": [
    "Correlation coefficients : \n",
    "\n",
    "These quantify the relationships between the variables of the dataset. Results below are postive and close to 1. This indicates a positive relatonship between the variables, that is when one variable increases so will the other."
   ]
  },
  {
   "cell_type": "code",
   "execution_count": 80,
   "metadata": {},
   "outputs": [
    {
     "data": {
      "text/plain": [
       "(0.8537775037188595, 2.8596889641534797e-143)"
      ]
     },
     "execution_count": 80,
     "metadata": {},
     "output_type": "execute_result"
    }
   ],
   "source": [
    "scipy.stats.pearsonr(x, y) # Pearson's r"
   ]
  },
  {
   "cell_type": "code",
   "execution_count": 62,
   "metadata": {},
   "outputs": [
    {
     "data": {
      "text/plain": [
       "SpearmanrResult(correlation=0.8187276026588616, pvalue=4.4287029757150813e-122)"
      ]
     },
     "execution_count": 62,
     "metadata": {},
     "output_type": "execute_result"
    }
   ],
   "source": [
    "scipy.stats.spearmanr(x, y)   # Spearman's rho"
   ]
  },
  {
   "cell_type": "code",
   "execution_count": 67,
   "metadata": {},
   "outputs": [
    {
     "data": {
      "text/plain": [
       "KendalltauResult(correlation=0.7275042154337987, pvalue=1.630169049999099e-129)"
      ]
     },
     "execution_count": 67,
     "metadata": {},
     "output_type": "execute_result"
    }
   ],
   "source": [
    "scipy.stats.kendalltau(x, y)  # Kendall's tau"
   ]
  },
  {
   "cell_type": "markdown",
   "metadata": {},
   "source": [
    "#### Fitting a simple linear regression model \n",
    "\n",
    "From the scatter plot above , there does seem to be a linear part of the graph demonstrating a relationship between wind speed and powerout , where the power increases as the windspeed increase, however it is not obviously linear. The first observation would be a sigmoid curve. Following this would be to try and best fit a line to the data points with overfitting or underfitting. \n",
    "\n",
    "\n",
    "Using Statmodels"
   ]
  },
  {
   "cell_type": "code",
   "execution_count": 91,
   "metadata": {
    "scrolled": true
   },
   "outputs": [
    {
     "data": {
      "text/plain": [
       "Text(0, 0.5, 'power')"
      ]
     },
     "execution_count": 91,
     "metadata": {},
     "output_type": "execute_result"
    },
    {
     "data": {
      "image/png": "[encoded data removed]",
      "text/plain": [
       "<Figure size 432x288 with 1 Axes>"
      ]
     },
     "metadata": {
      "needs_background": "light"
     },
     "output_type": "display_data"
    }
   ],
   "source": [
    "import pandas as pd\n",
    "import numpy as np\n",
    "import matplotlib.pyplot as plt\n",
    "import statsmodels.api as sm\n",
    "from statsmodels.formula.api import ols\n",
    "import scipy.stats\n",
    "\n",
    "dfpower =pd.read_csv(\"https://raw.githubusercontent.com/ianmcloughlin/2020A-machstat-project/master/dataset/powerproduction.csv\")\n",
    "\n",
    "x = dfpower.speed\n",
    "y = dfpower.power\n",
    "\n",
    "\n",
    "\n",
    "plt.plot(x,y, 'k.')\n",
    "\n",
    "\n",
    "    \n",
    "# Add axis labels.\n",
    "plt.xlabel('speed')\n",
    "plt.ylabel('power')\n",
    "\n",
    "\n"
   ]
  },
  {
   "cell_type": "code",
   "execution_count": null,
   "metadata": {},
   "outputs": [],
   "source": [
    "import pandas as pd\n",
    "import numpy as np\n",
    "import matplotlib.pyplot as plt\n",
    "import statsmodels.api as sm\n",
    "from statsmodels.formula.api import ols\n",
    "import scipy.stats\n",
    "\n",
    "\n",
    "\n",
    "dfpower =pd.read_csv(\"https://raw.githubusercontent.com/ianmcloughlin/2020A-machstat-project/master/dataset/powerproduction.csv\")\n",
    "\n",
    "x = dfpower.speed\n",
    "y = dfpower.power\n",
    "\n",
    "\n",
    "#fit simple linear regression model\n",
    "model = ols('speed ~ power', data=dfpower).fit()\n",
    "\n",
    "#view model summary\n",
    "print(model.summary())\n",
    "\n",
    "#define figure size\n",
    "fig = plt.figure(figsize=(12,8))\n",
    "\n",
    "#produce regression plots\n",
    "fig = sm.graphics.plot_regress_exog(model, 'power', fig=fig)\n",
    "\n",
    "dfpower =pd.read_csv(\"https://raw.githubusercontent.com/ianmcloughlin/2020A-machstat-project/master/dataset/powerproduction.csv\")\n",
    "\n",
    "x = dfpower.speed\n",
    "y = dfpower.power\n",
    "\n",
    "\n",
    "z = np.polyfit(x, y, 1)\n",
    "\n",
    "plt.plot(dfpower.speed,dfpower.power, 'k.')\n",
    "plt.plot(z)\n",
    "\n",
    "    \n",
    "Add axis labels.\n",
    "plt.xlabel('speed')\n",
    "plt.ylabel('power')\n",
    "\n"
   ]
  },
  {
   "cell_type": "markdown",
   "metadata": {},
   "source": [
    "\n",
    "\n",
    "\n",
    "The graph above shows us that there is very little power when the speed is less than 10 meters per second and after 17 meters per second you are not generating any extra power. One would think the faster the wind turbine the more power you would generate but this is not the case. The most power generated is between the speeds of 10 and less than 20 meters per second.\n",
    "\n",
    "To look at other types of regression on this data set. The above scatter plot shows that the relationship between the variables are not a simple linear one ."
   ]
  },
  {
   "cell_type": "markdown",
   "metadata": {},
   "source": [
    "The graph above shows us that there is very little power when the speed is less than 10 meters per second and after 17 meters per second you are not generating any extra power. One would think the faster the wind turbine the more power you would generate but this is not the case. The most power generated is between the speeds of 10 and less than 20 meters per second. \n",
    "\n",
    "To look at other types of regression on this data set. The above scatter plot shows that the relationship between the variables are not a simple linear one . \n",
    "\n",
    "Other types of regressions are polynomial and logisical .\n",
    "\n",
    "NB: We look at the method of R-squared value to calculate the accuracy of the model used. This value is a number between 0 and 1. , and the closer you are to 1 , the more accurate the linear regression model is. We have to use Sklearn to determine this value as it is not implementede in NUMPY. \n",
    "\n",
    "1. Polynomial Regression \n",
    "\n",
    "Using NumPy Polyfit() Method to fit our data inside a polynomial function. It least squares the polynomial fit. It fits a polynomial p(x) of degree deg to points(x,y). This method returns a vector of coefficients p that minimises the squared error in the order of deg, deg-1, ... 0.\n",
    "\n",
    "The syntax:\n",
    "\n",
    "numpy.polyfit (X, Y, deg, rcond=None, full=False, w=None, cov=False)"
   ]
  },
  {
   "cell_type": "code",
   "execution_count": 58,
   "metadata": {},
   "outputs": [
    {
     "name": "stdout",
     "output_type": "stream",
     "text": [
      "\n",
      "coefficient value in case of linear polynomial:\n",
      " [  4.91759567 -13.89990263]\n"
     ]
    },
    {
     "data": {
      "text/plain": [
       "0.7289360258564073"
      ]
     },
     "execution_count": 58,
     "metadata": {},
     "output_type": "execute_result"
    },
    {
     "data": {
      "image/png": "[encoded data removed]",
      "text/plain": [
       "<Figure size 432x288 with 1 Axes>"
      ]
     },
     "metadata": {
      "needs_background": "light"
     },
     "output_type": "display_data"
    }
   ],
   "source": [
    "import seaborn as sns\n",
    "\n",
    "dfpower =pd.read_csv(\"https://raw.githubusercontent.com/ianmcloughlin/2020A-machstat-project/master/dataset/powerproduction.csv\")\n",
    "dfpower[0:6]\n",
    "x = dfpower.speed\n",
    "y = dfpower.power\n",
    "\n",
    "\n",
    "# calculating value of coefficients in case of linear polynomial - 2 constants\n",
    "z = np.polyfit(x, y, 1) # the last argument is the degree of polynomial\n",
    "poly1d_fn = np.poly1d(z)\n",
    "print(\"\\ncoefficient value in case of linear polynomial:\\n\", z)\n",
    "\n",
    "plt.plot(x,y, 'yo', x, poly1d_fn(x), '--k')\n",
    "\n",
    "#calculating the accuracy of the linear polynomial model using r2 values\n",
    "predict=np.poly1d(z)\n",
    "from sklearn.metrics import r2_score\n",
    "r2_score(y, predict(x))\n",
    "\n",
    "\n",
    "#0.7289360258564072\n",
    "\n",
    "#np.corrcoef(x, y)[0][1]**2\n"
   ]
  },
  {
   "cell_type": "code",
   "execution_count": 36,
   "metadata": {
    "scrolled": true
   },
   "outputs": [
    {
     "name": "stdout",
     "output_type": "stream",
     "text": [
      "          2\n",
      "-0.07022 x + 6.674 x - 21.23\n"
     ]
    },
    {
     "data": {
      "text/plain": [
       "0.7351940425885428"
      ]
     },
     "execution_count": 36,
     "metadata": {},
     "output_type": "execute_result"
    },
    {
     "data": {
      "image/png": "[encoded data removed]",
      "text/plain": [
       "<Figure size 432x288 with 1 Axes>"
      ]
     },
     "metadata": {
      "needs_background": "light"
     },
     "output_type": "display_data"
    }
   ],
   "source": [
    "# calculating value of coefficient in case of cubic polynomial - 3 constants\n",
    "\n",
    "x = dfpower.speed\n",
    "y = dfpower.power\n",
    "\n",
    "z = np.polyfit(x,y,2)\n",
    "poly1d_fn = np.poly1d(z) \n",
    "print(poly1d_fn)\n",
    "# poly1d_fn is now a function which takes in x and returns an estimate for y\n",
    "\n",
    "plt.plot(x,y, 'yo', x, poly1d_fn(x), '--k')\n",
    "\n",
    "\n",
    "#calculating the accuracy of the cubic polynomial model using r2 values\n",
    "predict=np.poly1d(z)\n",
    "from sklearn.metrics import mean_squared_error, r2_score\n",
    "r2_score(y, predict(x))\n",
    "\n"
   ]
  },
  {
   "cell_type": "code",
   "execution_count": 34,
   "metadata": {},
   "outputs": [
    {
     "name": "stdout",
     "output_type": "stream",
     "text": [
      "          3         2\n",
      "-0.05242 x + 1.895 x - 12.94 x + 19.2\n"
     ]
    },
    {
     "data": {
      "text/plain": [
       "0.8796883953739737"
      ]
     },
     "execution_count": 34,
     "metadata": {},
     "output_type": "execute_result"
    },
    {
     "data": {
      "image/png": "[encoded data removed]",
      "text/plain": [
       "<Figure size 432x288 with 1 Axes>"
      ]
     },
     "metadata": {
      "needs_background": "light"
     },
     "output_type": "display_data"
    }
   ],
   "source": [
    "# calculating value of coefficient in case of quadratic polynomial - 4 constants\n",
    "\n",
    "\n",
    "z = np.polyfit(x,y,3)\n",
    "poly1d_fn = np.poly1d(z) \n",
    "print(poly1d_fn)\n",
    "# poly1d_fn is now a function which takes in x and returns an estimate for y\n",
    "\n",
    "plt.plot(x,y, 'yo', x, poly1d_fn(x), '--k')\n",
    "\n",
    "#calculating the accuracy of the quadratic polynomial model using r2 values\n",
    "predict=np.poly1d(z)\n",
    "from sklearn.metrics import r2_score\n",
    "r2_score(y, predict(x))\n"
   ]
  },
  {
   "cell_type": "code",
   "execution_count": 20,
   "metadata": {
    "scrolled": true
   },
   "outputs": [
    {
     "data": {
      "image/png": "[encoded data removed]",
      "text/plain": [
       "<Figure size 432x288 with 1 Axes>"
      ]
     },
     "metadata": {
      "needs_background": "light"
     },
     "output_type": "display_data"
    }
   ],
   "source": [
    "import numpy as np\n",
    "from sklearn.linear_model import LinearRegression\n",
    "from sklearn.preprocessing import PolynomialFeatures\n",
    "import pandas as pd\n",
    "\n",
    "import matplotlib.pyplot as plt\n",
    "\n",
    "dfpower =pd.read_csv(\"https://raw.githubusercontent.com/ianmcloughlin/2020A-machstat-project/master/dataset/powerproduction.csv\")\n",
    "\n",
    "x = dfpower.speed\n",
    "y = dfpower.power\n",
    "\n",
    "x = x.values.reshape(-1, 1)\n",
    "y = y.values.reshape(-1, 1)\n",
    "\n",
    "regressor = LinearRegression()\n",
    "regressor.fit(x,y) #actually produces the linear eqn for the data\n",
    "\n",
    "\n",
    "plt.scatter(x,y, color='red')\n",
    "plt.plot(x, lin_reg.predict(x),color='blue')\n",
    "plt.title(\"Truth or Bluff(Linear)\")\n",
    "plt.xlabel('speed')\n",
    "plt.ylabel('power')\n",
    "plt.show()"
   ]
  },
  {
   "cell_type": "code",
   "execution_count": 23,
   "metadata": {},
   "outputs": [
    {
     "data": {
      "text/plain": [
       "array([[ 0.   ],\n",
       "       [ 0.125],\n",
       "       [ 0.15 ],\n",
       "       [ 0.225],\n",
       "       [ 0.275],\n",
       "       [ 0.325],\n",
       "       [ 0.4  ],\n",
       "       [ 0.45 ],\n",
       "       [ 0.501],\n",
       "       [ 0.526],\n",
       "       [ 0.551],\n",
       "       [ 0.576],\n",
       "       [ 0.626],\n",
       "       [ 0.676],\n",
       "       [ 0.701],\n",
       "       [ 0.726],\n",
       "       [ 0.751],\n",
       "       [ 0.801],\n",
       "       [ 0.826],\n",
       "       [ 0.851],\n",
       "       [ 0.926],\n",
       "       [ 0.951],\n",
       "       [ 0.976],\n",
       "       [ 1.001],\n",
       "       [ 1.026],\n",
       "       [ 1.051],\n",
       "       [ 1.076],\n",
       "       [ 1.101],\n",
       "       [ 1.151],\n",
       "       [ 1.251],\n",
       "       [ 1.276],\n",
       "       [ 1.301],\n",
       "       [ 1.401],\n",
       "       [ 1.426],\n",
       "       [ 1.502],\n",
       "       [ 1.552],\n",
       "       [ 1.652],\n",
       "       [ 1.677],\n",
       "       [ 1.702],\n",
       "       [ 1.827],\n",
       "       [ 1.877],\n",
       "       [ 1.902],\n",
       "       [ 2.027],\n",
       "       [ 2.077],\n",
       "       [ 2.102],\n",
       "       [ 2.177],\n",
       "       [ 2.227],\n",
       "       [ 2.252],\n",
       "       [ 2.402],\n",
       "       [ 2.477],\n",
       "       [ 2.553],\n",
       "       [ 2.578],\n",
       "       [ 2.703],\n",
       "       [ 2.828],\n",
       "       [ 2.853],\n",
       "       [ 2.953],\n",
       "       [ 3.003],\n",
       "       [ 3.028],\n",
       "       [ 3.053],\n",
       "       [ 3.078],\n",
       "       [ 3.128],\n",
       "       [ 3.203],\n",
       "       [ 3.378],\n",
       "       [ 3.403],\n",
       "       [ 3.428],\n",
       "       [ 3.504],\n",
       "       [ 3.529],\n",
       "       [ 3.579],\n",
       "       [ 3.604],\n",
       "       [ 3.629],\n",
       "       [ 3.679],\n",
       "       [ 3.704],\n",
       "       [ 3.729],\n",
       "       [ 3.779],\n",
       "       [ 3.804],\n",
       "       [ 3.879],\n",
       "       [ 3.904],\n",
       "       [ 3.929],\n",
       "       [ 3.954],\n",
       "       [ 3.979],\n",
       "       [ 4.179],\n",
       "       [ 4.304],\n",
       "       [ 4.329],\n",
       "       [ 4.429],\n",
       "       [ 4.53 ],\n",
       "       [ 4.555],\n",
       "       [ 4.605],\n",
       "       [ 4.73 ],\n",
       "       [ 4.78 ],\n",
       "       [ 4.88 ],\n",
       "       [ 4.905],\n",
       "       [ 4.93 ],\n",
       "       [ 4.955],\n",
       "       [ 4.98 ],\n",
       "       [ 5.03 ],\n",
       "       [ 5.08 ],\n",
       "       [ 5.13 ],\n",
       "       [ 5.18 ],\n",
       "       [ 5.205],\n",
       "       [ 5.255],\n",
       "       [ 5.28 ],\n",
       "       [ 5.305],\n",
       "       [ 5.43 ],\n",
       "       [ 5.455],\n",
       "       [ 5.506],\n",
       "       [ 5.556],\n",
       "       [ 5.631],\n",
       "       [ 5.681],\n",
       "       [ 5.706],\n",
       "       [ 5.731],\n",
       "       [ 5.781],\n",
       "       [ 5.806],\n",
       "       [ 5.831],\n",
       "       [ 5.906],\n",
       "       [ 5.931],\n",
       "       [ 5.956],\n",
       "       [ 5.981],\n",
       "       [ 6.006],\n",
       "       [ 6.031],\n",
       "       [ 6.081],\n",
       "       [ 6.106],\n",
       "       [ 6.131],\n",
       "       [ 6.156],\n",
       "       [ 6.181],\n",
       "       [ 6.231],\n",
       "       [ 6.356],\n",
       "       [ 6.406],\n",
       "       [ 6.456],\n",
       "       [ 6.481],\n",
       "       [ 6.607],\n",
       "       [ 6.682],\n",
       "       [ 6.732],\n",
       "       [ 6.757],\n",
       "       [ 6.782],\n",
       "       [ 6.832],\n",
       "       [ 6.857],\n",
       "       [ 6.957],\n",
       "       [ 6.982],\n",
       "       [ 7.057],\n",
       "       [ 7.082],\n",
       "       [ 7.107],\n",
       "       [ 7.157],\n",
       "       [ 7.182],\n",
       "       [ 7.207],\n",
       "       [ 7.232],\n",
       "       [ 7.257],\n",
       "       [ 7.307],\n",
       "       [ 7.382],\n",
       "       [ 7.407],\n",
       "       [ 7.432],\n",
       "       [ 7.508],\n",
       "       [ 7.558],\n",
       "       [ 7.608],\n",
       "       [ 7.633],\n",
       "       [ 7.683],\n",
       "       [ 7.708],\n",
       "       [ 7.733],\n",
       "       [ 7.808],\n",
       "       [ 7.833],\n",
       "       [ 7.858],\n",
       "       [ 7.883],\n",
       "       [ 7.908],\n",
       "       [ 7.933],\n",
       "       [ 8.033],\n",
       "       [ 8.083],\n",
       "       [ 8.133],\n",
       "       [ 8.183],\n",
       "       [ 8.208],\n",
       "       [ 8.308],\n",
       "       [ 8.408],\n",
       "       [ 8.458],\n",
       "       [ 8.534],\n",
       "       [ 8.634],\n",
       "       [ 8.659],\n",
       "       [ 8.684],\n",
       "       [ 8.759],\n",
       "       [ 8.834],\n",
       "       [ 8.859],\n",
       "       [ 8.884],\n",
       "       [ 8.959],\n",
       "       [ 9.209],\n",
       "       [ 9.259],\n",
       "       [ 9.309],\n",
       "       [ 9.434],\n",
       "       [ 9.535],\n",
       "       [ 9.56 ],\n",
       "       [ 9.61 ],\n",
       "       [ 9.735],\n",
       "       [ 9.81 ],\n",
       "       [ 9.835],\n",
       "       [ 9.86 ],\n",
       "       [ 9.885],\n",
       "       [ 9.935],\n",
       "       [ 9.96 ],\n",
       "       [ 9.985],\n",
       "       [10.035],\n",
       "       [10.085],\n",
       "       [10.11 ],\n",
       "       [10.135],\n",
       "       [10.16 ],\n",
       "       [10.185],\n",
       "       [10.21 ],\n",
       "       [10.235],\n",
       "       [10.26 ],\n",
       "       [10.285],\n",
       "       [10.36 ],\n",
       "       [10.385],\n",
       "       [10.485],\n",
       "       [10.511],\n",
       "       [10.561],\n",
       "       [10.661],\n",
       "       [10.711],\n",
       "       [10.736],\n",
       "       [10.761],\n",
       "       [10.886],\n",
       "       [10.961],\n",
       "       [10.986],\n",
       "       [11.011],\n",
       "       [11.036],\n",
       "       [11.111],\n",
       "       [11.161],\n",
       "       [11.211],\n",
       "       [11.286],\n",
       "       [11.311],\n",
       "       [11.336],\n",
       "       [11.361],\n",
       "       [11.386],\n",
       "       [11.612],\n",
       "       [11.662],\n",
       "       [11.687],\n",
       "       [11.737],\n",
       "       [11.787],\n",
       "       [11.812],\n",
       "       [11.862],\n",
       "       [11.937],\n",
       "       [11.962],\n",
       "       [11.987],\n",
       "       [12.037],\n",
       "       [12.162],\n",
       "       [12.187],\n",
       "       [12.212],\n",
       "       [12.262],\n",
       "       [12.287],\n",
       "       [12.337],\n",
       "       [12.362],\n",
       "       [12.387],\n",
       "       [12.412],\n",
       "       [12.462],\n",
       "       [12.487],\n",
       "       [12.538],\n",
       "       [12.563],\n",
       "       [12.588],\n",
       "       [12.613],\n",
       "       [12.663],\n",
       "       [12.713],\n",
       "       [12.738],\n",
       "       [12.788],\n",
       "       [12.863],\n",
       "       [12.888],\n",
       "       [12.963],\n",
       "       [12.988],\n",
       "       [13.038],\n",
       "       [13.263],\n",
       "       [13.313],\n",
       "       [13.338],\n",
       "       [13.388],\n",
       "       [13.438],\n",
       "       [13.539],\n",
       "       [13.564],\n",
       "       [13.714],\n",
       "       [13.739],\n",
       "       [13.939],\n",
       "       [13.964],\n",
       "       [13.989],\n",
       "       [14.014],\n",
       "       [14.039],\n",
       "       [14.139],\n",
       "       [14.189],\n",
       "       [14.264],\n",
       "       [14.289],\n",
       "       [14.339],\n",
       "       [14.364],\n",
       "       [14.389],\n",
       "       [14.489],\n",
       "       [14.54 ],\n",
       "       [14.59 ],\n",
       "       [14.615],\n",
       "       [14.64 ],\n",
       "       [14.715],\n",
       "       [14.74 ],\n",
       "       [14.765],\n",
       "       [14.84 ],\n",
       "       [14.865],\n",
       "       [15.065],\n",
       "       [15.115],\n",
       "       [15.14 ],\n",
       "       [15.165],\n",
       "       [15.19 ],\n",
       "       [15.215],\n",
       "       [15.24 ],\n",
       "       [15.265],\n",
       "       [15.315],\n",
       "       [15.34 ],\n",
       "       [15.415],\n",
       "       [15.465],\n",
       "       [15.49 ],\n",
       "       [15.541],\n",
       "       [15.591],\n",
       "       [15.666],\n",
       "       [15.716],\n",
       "       [15.741],\n",
       "       [15.766],\n",
       "       [15.816],\n",
       "       [15.916],\n",
       "       [15.991],\n",
       "       [16.041],\n",
       "       [16.066],\n",
       "       [16.091],\n",
       "       [16.191],\n",
       "       [16.241],\n",
       "       [16.291],\n",
       "       [16.366],\n",
       "       [16.441],\n",
       "       [16.466],\n",
       "       [16.567],\n",
       "       [16.592],\n",
       "       [16.617],\n",
       "       [16.667],\n",
       "       [16.692],\n",
       "       [16.717],\n",
       "       [16.792],\n",
       "       [16.842],\n",
       "       [16.917],\n",
       "       [16.942],\n",
       "       [16.967],\n",
       "       [16.992],\n",
       "       [17.017],\n",
       "       [17.067],\n",
       "       [17.117],\n",
       "       [17.142],\n",
       "       [17.167],\n",
       "       [17.267],\n",
       "       [17.317],\n",
       "       [17.342],\n",
       "       [17.367],\n",
       "       [17.417],\n",
       "       [17.442],\n",
       "       [17.467],\n",
       "       [17.492],\n",
       "       [17.518],\n",
       "       [17.543],\n",
       "       [17.568],\n",
       "       [17.593],\n",
       "       [17.618],\n",
       "       [17.643],\n",
       "       [17.793],\n",
       "       [17.818],\n",
       "       [17.843],\n",
       "       [17.893],\n",
       "       [18.043],\n",
       "       [18.068],\n",
       "       [18.093],\n",
       "       [18.218],\n",
       "       [18.268],\n",
       "       [18.318],\n",
       "       [18.368],\n",
       "       [18.393],\n",
       "       [18.418],\n",
       "       [18.519],\n",
       "       [18.544],\n",
       "       [18.594],\n",
       "       [18.619],\n",
       "       [18.694],\n",
       "       [18.744],\n",
       "       [18.769],\n",
       "       [18.794],\n",
       "       [18.844],\n",
       "       [18.869],\n",
       "       [18.919],\n",
       "       [18.944],\n",
       "       [18.994],\n",
       "       [19.044],\n",
       "       [19.069],\n",
       "       [19.094],\n",
       "       [19.169],\n",
       "       [19.194],\n",
       "       [19.269],\n",
       "       [19.444],\n",
       "       [19.545],\n",
       "       [19.57 ],\n",
       "       [19.595],\n",
       "       [19.62 ],\n",
       "       [19.645],\n",
       "       [19.67 ],\n",
       "       [19.695],\n",
       "       [19.72 ],\n",
       "       [19.77 ],\n",
       "       [19.795],\n",
       "       [19.82 ],\n",
       "       [19.845],\n",
       "       [19.895],\n",
       "       [19.945],\n",
       "       [19.97 ],\n",
       "       [20.045],\n",
       "       [20.095],\n",
       "       [20.12 ],\n",
       "       [20.145],\n",
       "       [20.17 ],\n",
       "       [20.22 ],\n",
       "       [20.27 ],\n",
       "       [20.295],\n",
       "       [20.32 ],\n",
       "       [20.345],\n",
       "       [20.47 ],\n",
       "       [20.521],\n",
       "       [20.571],\n",
       "       [20.646],\n",
       "       [20.671],\n",
       "       [20.771],\n",
       "       [20.796],\n",
       "       [20.871],\n",
       "       [21.046],\n",
       "       [21.071],\n",
       "       [21.121],\n",
       "       [21.321],\n",
       "       [21.396],\n",
       "       [21.421],\n",
       "       [21.446],\n",
       "       [21.471],\n",
       "       [21.496],\n",
       "       [21.622],\n",
       "       [21.672],\n",
       "       [21.722],\n",
       "       [21.822],\n",
       "       [21.847],\n",
       "       [21.922],\n",
       "       [22.022],\n",
       "       [22.072],\n",
       "       [22.147],\n",
       "       [22.222],\n",
       "       [22.247],\n",
       "       [22.272],\n",
       "       [22.297],\n",
       "       [22.322],\n",
       "       [22.347],\n",
       "       [22.422],\n",
       "       [22.472],\n",
       "       [22.497],\n",
       "       [22.523],\n",
       "       [22.623],\n",
       "       [22.673],\n",
       "       [22.723],\n",
       "       [22.773],\n",
       "       [22.798],\n",
       "       [22.823],\n",
       "       [22.873],\n",
       "       [22.998],\n",
       "       [23.023],\n",
       "       [23.123],\n",
       "       [23.223],\n",
       "       [23.248],\n",
       "       [23.273],\n",
       "       [23.298],\n",
       "       [23.323],\n",
       "       [23.348],\n",
       "       [23.373],\n",
       "       [23.423],\n",
       "       [23.473],\n",
       "       [23.498],\n",
       "       [23.549],\n",
       "       [23.574],\n",
       "       [23.599],\n",
       "       [23.624],\n",
       "       [23.699],\n",
       "       [23.724],\n",
       "       [23.799],\n",
       "       [23.824],\n",
       "       [23.849],\n",
       "       [23.899],\n",
       "       [23.949],\n",
       "       [23.974],\n",
       "       [24.024],\n",
       "       [24.049],\n",
       "       [24.174],\n",
       "       [24.199],\n",
       "       [24.249],\n",
       "       [24.299],\n",
       "       [24.349],\n",
       "       [24.374],\n",
       "       [24.399],\n",
       "       [24.499],\n",
       "       [24.525],\n",
       "       [24.575],\n",
       "       [24.65 ],\n",
       "       [24.75 ],\n",
       "       [24.775],\n",
       "       [24.85 ],\n",
       "       [24.875],\n",
       "       [24.95 ],\n",
       "       [25.   ]])"
      ]
     },
     "execution_count": 23,
     "metadata": {},
     "output_type": "execute_result"
    }
   ],
   "source": [
    "from sklearn.preprocessing import PolynomialFeatures\n",
    "poly_reg = PolynomialFeatures(degree=2)\n",
    "x_poly = poly_reg.fit_transform(x)\n",
    "x"
   ]
  },
  {
   "cell_type": "code",
   "execution_count": 24,
   "metadata": {},
   "outputs": [
    {
     "data": {
      "text/plain": [
       "LinearRegression()"
      ]
     },
     "execution_count": 24,
     "metadata": {},
     "output_type": "execute_result"
    }
   ],
   "source": [
    "lin_reg2 = LinearRegression()\n",
    "lin_reg2.fit(x_poly,y)"
   ]
  },
  {
   "cell_type": "code",
   "execution_count": 25,
   "metadata": {
    "scrolled": false
   },
   "outputs": [
    {
     "data": {
      "image/png": "[encoded data removed]",
      "text/plain": [
       "<Figure size 432x288 with 1 Axes>"
      ]
     },
     "metadata": {
      "needs_background": "light"
     },
     "output_type": "display_data"
    }
   ],
   "source": [
    "from sklearn.preprocessing import PolynomialFeatures\n",
    "poly_reg = PolynomialFeatures(degree=4)\n",
    "x_poly = poly_reg.fit_transform(x)\n",
    "lin_reg2 = LinearRegression()\n",
    "lin_reg2.fit(x_poly,y)\n",
    " \n",
    "x_grid = np.arange(min(x),max(x),0.1)\n",
    "x_grid = x_grid.reshape(len(x_grid),1) \n",
    "plt.scatter(x,y, color='red') \n",
    " \n",
    "plt.plot(x_grid, lin_reg2.predict(poly_reg.fit_transform(x_grid)),color='blue') \n",
    " \n",
    "plt.title(\"Truth or Bluff(Polynomial)\")\n",
    "plt.xlabel('speed')\n",
    "plt.ylabel('power')\n",
    "plt.show()"
   ]
  },
  {
   "cell_type": "code",
   "execution_count": 27,
   "metadata": {},
   "outputs": [
    {
     "data": {
      "text/plain": [
       "array([[59.86403235]])"
      ]
     },
     "execution_count": 27,
     "metadata": {},
     "output_type": "execute_result"
    }
   ],
   "source": [
    "#predictions : \n",
    "\n",
    "lin_reg.predict([[15]])\n",
    "\n"
   ]
  },
  {
   "cell_type": "code",
   "execution_count": 32,
   "metadata": {
    "scrolled": true
   },
   "outputs": [
    {
     "data": {
      "text/plain": [
       "array([[70.58313295]])"
      ]
     },
     "execution_count": 32,
     "metadata": {},
     "output_type": "execute_result"
    }
   ],
   "source": [
    "lin_reg2.predict( poly_reg.fit_transform([[15]]))\n"
   ]
  },
  {
   "cell_type": "code",
   "execution_count": 42,
   "metadata": {},
   "outputs": [
    {
     "data": {
      "text/plain": [
       "<AxesSubplot:xlabel='wind', ylabel='power'>"
      ]
     },
     "execution_count": 42,
     "metadata": {},
     "output_type": "execute_result"
    },
    {
     "data": {
      "image/png": "[encoded data removed]",
      "text/plain": [
       "<Figure size 432x288 with 1 Axes>"
      ]
     },
     "metadata": {
      "needs_background": "light"
     },
     "output_type": "display_data"
    }
   ],
   "source": [
    "import numpy as np\n",
    "import pandas as pd\n",
    "\n",
    "\n",
    "a,m,n,t =2011.1 ,2.6650,622.922,1.4090\n",
    "u=dfpower.speed\n",
    "p_u =a * (1.0 +m*np.exp(-u/t))/(1.0 +n* np.exp(-u/t))\n",
    "df2=pd.DataFrame({\"wind\":u,\"power\":p_u})\n",
    "df2\n",
    "\n",
    "\n",
    "import seaborn as sns\n",
    "sns.scatterplot( data =df2 ,x=\"wind\",y=\"power\")"
   ]
  },
  {
   "cell_type": "markdown",
   "metadata": {},
   "source": [
    "References : \n",
    "\n",
    "\n"
   ]
  },
  {
   "cell_type": "markdown",
   "metadata": {},
   "source": [
    "[1] https://learnonline.gmit.ie/course/view.php?id=1120#section-10 - Topic 4  Datasets - Plotting the equation . Ian Mcloughlin \n",
    "\n",
    "[2] https://stackoverflow.com/questions/6148207/linear-regression-with-matplotlib-numpy\n",
    "\n",
    "[3] https://www.codespeedy.com/numpy-polyfit-in-python/\n",
    "\n",
    "[4] https://appdividend.com/2020/06/03/numpy-polyfit-method-in-python/#:~:text=Numpy%20polyfit%20%28%29%20method%20is%20used%20to%20fit,error%20in%20the%20order%20deg%2C%20deg-1%2C%20%E2%80%A6.%200.\n",
    "\n",
    "[5] https://data36.com/linear-regression-in-python-numpy-polyfit/\n",
    "\n",
    "[6] https://www.askpython.com/python/examples/polynomial-regression-in-python#:~:text=%20A%20Simple%20Example%20of%20Polynomial%20Regression%20in,are%20using%20this%20to%20compare%20the...%20More%20\n",
    "\n",
    "[7] https://iq.opengenus.org/polynomial-regression-using-scikit-learn/\n",
    "\n",
    "[8] https://www.statology.org/remove-outliers-python/\n",
    "\n",
    "[9] http://wiki.engageeducation.org.au/further-maths/data-analysis/residuals/ - image reference"
   ]
  }
 ],
 "metadata": {
  "kernelspec": {
   "display_name": "Python 3",
   "language": "python",
   "name": "python3"
  },
  "language_info": {
   "codemirror_mode": {
    "name": "ipython",
    "version": 3
   },
   "file_extension": ".py",
   "mimetype": "text/x-python",
   "name": "python",
   "nbconvert_exporter": "python",
   "pygments_lexer": "ipython3",
   "version": "3.8.5"
  }
 },
 "nbformat": 4,
 "nbformat_minor": 2
}
