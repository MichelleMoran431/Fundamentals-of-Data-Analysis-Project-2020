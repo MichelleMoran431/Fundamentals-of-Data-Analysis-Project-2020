{
 "cells": [
  {
   "cell_type": "markdown",
   "metadata": {},
   "source": [
    "Fundamentals of Data Analysis Project 2020\n",
    "\n",
    "Student : Michelle Moran \n",
    "\n",
    "Task details : \n",
    "\n",
    "\n",
    "Perform and explain simple linear regression using Python on the powerproduction dataset\n",
    "\n",
    "Goal : Accurately predict wind turbine output from wind speed values using the data set as a basis.\n",
    "Using GIT repository  for the submission including the following items : \n",
    "\n",
    "1. Jupyter notebook that performs simple linear regression on the data set\n",
    "2. An explanation of your regression and an analysis of the accuracy\n",
    "3. Standard items in a git repository such as a README\n",
    "4. Compare a simple linear regression to other types of regression on this data set\n"
   ]
  },
  {
   "cell_type": "markdown",
   "metadata": {},
   "source": [
    "<br>\n",
    "\n",
    "The Powerproduction Dataset \n",
    "\n",
    ".........\n"
   ]
  },
  {
   "cell_type": "markdown",
   "metadata": {},
   "source": [
    "### 1.Introduction  [6]\n",
    "\n",
    "Simple linear regression is a statistical model that allows us to summarize and study relationships between 2 continuous variables. In our dataset case od the powerproduction of wine turbines,  the variables are wind speed and the turbine power output.\n",
    "\n",
    "Our x variable is wind speed and this can be regarded as the predictor or independent variable. The Y variable is the response or dependent variable and here it represents the power output of the turbine.\n",
    "\n",
    "Along with simple linear regression, we have multiple linear regression which has two or more independent variables and polynomial regression which is a generalised case of linear regaression.\n",
    "\n",
    "Im going to use 6 steps to build a Simple Linear Regression Model : \n",
    "\n",
    "Step 1. Importing the dataset\n",
    "Step 2. Data Pre-processing\n",
    "Step 3. Splitting the test and train sets\n",
    "Step 4. Fitting the linear regression model to the training sets\n",
    "Step 5. Predicting test results\n",
    "Step 6. Visualizing the test results\n"
   ]
  },
  {
   "cell_type": "markdown",
   "metadata": {},
   "source": [
    "#### Step 1 Importing the PowerProduction Dataset \n",
    "\n",
    "Import the pandas library - this provides a easy to use data structures and data analysis tools"
   ]
  },
  {
   "cell_type": "code",
   "execution_count": 9,
   "metadata": {
    "scrolled": true
   },
   "outputs": [
    {
     "data": {
      "text/plain": [
       "<bound method NDFrame.describe of       speed  power\n",
       "0     0.000    0.0\n",
       "1     0.125    0.0\n",
       "2     0.150    0.0\n",
       "3     0.225    0.0\n",
       "4     0.275    0.0\n",
       "..      ...    ...\n",
       "495  24.775    0.0\n",
       "496  24.850    0.0\n",
       "497  24.875    0.0\n",
       "498  24.950    0.0\n",
       "499  25.000    0.0\n",
       "\n",
       "[500 rows x 2 columns]>"
      ]
     },
     "execution_count": 9,
     "metadata": {},
     "output_type": "execute_result"
    }
   ],
   "source": [
    "import pandas as pd\n",
    "dfpower =pd.read_csv(\"https://raw.githubusercontent.com/ianmcloughlin/2020A-machstat-project/master/dataset/powerproduction.csv\")\n",
    "dfpower[0:6]\n",
    "x =\n",
    "#dfpower.shape\n",
    "dfpower.describe\n"
   ]
  },
  {
   "cell_type": "markdown",
   "metadata": {},
   "source": [
    "#### Step 2 Data pre-processing [8]\n",
    "\n",
    "This is not necessary for this dataset - However the did examine the data to see if there was any outliers using scipy-stats .Using Z- scores and interquartile range methods"
   ]
  },
  {
   "cell_type": "code",
   "execution_count": 45,
   "metadata": {},
   "outputs": [
    {
     "data": {
      "text/plain": [
       "(500, 2)"
      ]
     },
     "execution_count": 45,
     "metadata": {},
     "output_type": "execute_result"
    }
   ],
   "source": [
    "import scipy.stats as stats\n",
    "\n",
    "#find absolute value of z-score for each observation\n",
    "z = np.abs(stats.zscore(dfpower))\n",
    "\n",
    "#only keep rows in dataframe with all z-scores less than absolute value of 3 \n",
    "data_clean = dfpower[(z<3).all(axis=1)]\n",
    "\n",
    "#find how many rows are left in the dataframe \n",
    "data_clean.shape"
   ]
  },
  {
   "cell_type": "code",
   "execution_count": 46,
   "metadata": {},
   "outputs": [
    {
     "data": {
      "text/plain": [
       "(500, 2)"
      ]
     },
     "execution_count": 46,
     "metadata": {},
     "output_type": "execute_result"
    }
   ],
   "source": [
    "#find Q1, Q3, and interquartile range for each column\n",
    "Q1 = dfpower.quantile(q=.25)\n",
    "Q3 = dfpower.quantile(q=.75)\n",
    "IQR = dfpower.apply(stats.iqr)\n",
    "\n",
    "#only keep rows in dataframe that have values within 1.5*IQR of Q1 and Q3\n",
    "data_clean = dfpower[~((dfpower < (Q1-1.5*IQR)) | (dfpower > (Q3+1.5*IQR))).any(axis=1)]\n",
    "\n",
    "#find how many rows are left in the dataframe \n",
    "data_clean.shape\n",
    "\n"
   ]
  },
  {
   "cell_type": "markdown",
   "metadata": {},
   "source": [
    "#### Step 3 Splitting the dataset\n",
    "\n",
    "This is splitting the dataset into a train and test set. We do this in order to test our model on the test set. \n",
    "To check whether our predictions made by the model on the test set data matches what is given in the dataset.If it matches , it implies that our model is accurate and is making the right predictions"
   ]
  },
  {
   "cell_type": "code",
   "execution_count": 18,
   "metadata": {},
   "outputs": [],
   "source": [
    "x = dfpower.speed\n",
    "y = dfpower.power\n",
    "\n",
    "x = x.values.reshape(-1, 1)\n",
    "y = y.values.reshape(-1, 1)\n",
    "\n",
    "from sklearn.model_selection import train_test_split\n",
    "x_train, x_test, y_train, y_test = train_test_split(x,y,test_size=1/3,random_state=0)\n"
   ]
  },
  {
   "cell_type": "markdown",
   "metadata": {},
   "source": [
    "#### Step 4 Fitting linear regression model into the training set"
   ]
  },
  {
   "cell_type": "code",
   "execution_count": 19,
   "metadata": {},
   "outputs": [
    {
     "data": {
      "text/plain": [
       "LinearRegression()"
      ]
     },
     "execution_count": 19,
     "metadata": {},
     "output_type": "execute_result"
    }
   ],
   "source": [
    "from sklearn.linear_model import LinearRegression\n",
    "regressor = LinearRegression()\n",
    "regressor.fit(x_train,y_train) #actually produces the linear eqn for the data"
   ]
  },
  {
   "cell_type": "markdown",
   "metadata": {},
   "source": [
    "#### Step 5 Predicting the test set results"
   ]
  },
  {
   "cell_type": "code",
   "execution_count": 22,
   "metadata": {
    "scrolled": false
   },
   "outputs": [
    {
     "data": {
      "text/plain": [
       "array([[ 9.53551001e+00],\n",
       "       [ 4.84498752e+01],\n",
       "       [ 5.73012984e+01],\n",
       "       [ 9.68386523e+01],\n",
       "       [ 1.01079959e+02],\n",
       "       [-1.12922477e+01],\n",
       "       [ 6.51609237e+01],\n",
       "       [ 1.06691841e+02],\n",
       "       [ 2.42529947e+01],\n",
       "       [ 2.31316151e+01],\n",
       "       [ 4.62021320e+01],\n",
       "       [ 4.77022888e+01],\n",
       "       [ 8.27491402e+01],\n",
       "       [ 5.85522597e+01],\n",
       "       [ 2.76221175e+01],\n",
       "       [ 6.84054488e+01],\n",
       "       [ 1.02201339e+02],\n",
       "       [ 7.37681354e+01],\n",
       "       [ 2.33808105e+01],\n",
       "       [-6.55254978e+00],\n",
       "       [ 3.67227362e+01],\n",
       "       [ 7.67584810e+01],\n",
       "       [ 4.59529366e+01],\n",
       "       [ 1.35276215e+01],\n",
       "       [-4.06059504e+00],\n",
       "       [ 9.54680772e+01],\n",
       "       [-1.01708681e+01],\n",
       "       [ 7.68830788e+01],\n",
       "       [ 1.06568896e+01],\n",
       "       [ 4.42085682e+01],\n",
       "       [ 9.20989544e+01],\n",
       "       [ 1.51473921e+01],\n",
       "       [ 1.61441740e+01],\n",
       "       [ 3.43553792e+01],\n",
       "       [ 7.86324310e+01],\n",
       "       [ 1.07569009e+02],\n",
       "       [ 6.36657508e+01],\n",
       "       [ 9.83388091e+01],\n",
       "       [ 7.28959512e+01],\n",
       "       [ 4.57037411e+01],\n",
       "       [ 6.70298897e+01],\n",
       "       [-3.81139957e+00],\n",
       "       [ 8.49918995e+01],\n",
       "       [ 4.09640432e+01],\n",
       "       [ 4.54661663e+00],\n",
       "       [-1.42875773e+01],\n",
       "       [ 3.87212839e+01],\n",
       "       [ 6.77824601e+01],\n",
       "       [ 8.86102178e+01],\n",
       "       [ 1.21520625e+01],\n",
       "       [ 7.61354924e+01],\n",
       "       [ 2.72433404e+01],\n",
       "       [ 7.15203922e+01],\n",
       "       [ 2.11330674e+01],\n",
       "       [ 1.87657104e+01],\n",
       "       [-1.17906386e+01],\n",
       "       [ 6.81562533e+01],\n",
       "       [ 2.82451062e+01],\n",
       "       [ 4.15870319e+01],\n",
       "       [ 7.13957944e+01],\n",
       "       [ 4.79581210e+00],\n",
       "       [ 5.55569301e+01],\n",
       "       [ 8.19965699e+01],\n",
       "       [ 9.17251612e+01],\n",
       "       [ 6.14180077e+01],\n",
       "       [ 3.53521611e+01],\n",
       "       [-1.21644319e+01],\n",
       "       [ 1.02455518e+02],\n",
       "       [ 5.45601482e+01],\n",
       "       [ 4.42201889e+00],\n",
       "       [ 2.08838719e+01],\n",
       "       [ 2.55305284e+00],\n",
       "       [ 7.06482080e+01],\n",
       "       [ 1.05695059e+02],\n",
       "       [ 2.87434971e+01],\n",
       "       [ 7.58862969e+01],\n",
       "       [ 5.15648186e+01],\n",
       "       [ 1.14044761e+01],\n",
       "       [ 1.07319814e+02],\n",
       "       [ 6.05458235e+01],\n",
       "       [ 6.11688122e+01],\n",
       "       [ 4.47069592e+01],\n",
       "       [ 1.03701496e+02],\n",
       "       [ 4.04656522e+01],\n",
       "       [ 6.87792420e+01],\n",
       "       [ 6.79070578e+01],\n",
       "       [ 8.99807929e+01],\n",
       "       [ 2.40037992e+01],\n",
       "       [ 7.22679786e+01],\n",
       "       [-6.91472234e-01],\n",
       "       [ 4.07148477e+01],\n",
       "       [ 8.46181063e+01],\n",
       "       [ 7.95046152e+01],\n",
       "       [ 3.58505521e+01],\n",
       "       [ 2.97402790e+01],\n",
       "       [ 7.82586378e+01],\n",
       "       [ 5.61141879e-02],\n",
       "       [ 9.59664682e+01],\n",
       "       [ 6.79102873e-01],\n",
       "       [ 3.74753065e+01],\n",
       "       [ 1.34030238e+01],\n",
       "       [ 6.99006216e+01],\n",
       "       [ 3.54983473e+00],\n",
       "       [ 1.03327702e+02],\n",
       "       [-1.29170022e+01],\n",
       "       [ 8.64870723e+01],\n",
       "       [ 1.45244034e+01],\n",
       "       [ 4.48315569e+01],\n",
       "       [ 6.10442145e+01],\n",
       "       [ 2.35054083e+01],\n",
       "       [ 5.46847460e+01],\n",
       "       [-1.26678067e+01],\n",
       "       [ 1.98870900e+01],\n",
       "       [-1.24136273e+01],\n",
       "       [ 1.01329155e+02],\n",
       "       [ 9.33499157e+01],\n",
       "       [ 7.87570287e+01],\n",
       "       [ 5.75554778e+01],\n",
       "       [ 3.82228930e+01],\n",
       "       [ 3.39815860e+01],\n",
       "       [ 9.28515247e+01],\n",
       "       [-2.56542220e+00],\n",
       "       [ 1.91395036e+01],\n",
       "       [ 7.66338833e+01],\n",
       "       [ 8.71100610e+01],\n",
       "       [ 4.58283388e+01],\n",
       "       [ 4.29907399e-01],\n",
       "       [ 8.54902904e+01],\n",
       "       [ 8.28737380e+01],\n",
       "       [ 8.63624746e+01],\n",
       "       [ 1.05944255e+02],\n",
       "       [ 4.33363841e+01],\n",
       "       [ 6.07950190e+01],\n",
       "       [-1.93081286e-01],\n",
       "       [ 6.01720303e+01],\n",
       "       [ 1.07190232e+02],\n",
       "       [ 1.00332373e+02],\n",
       "       [ 9.98339819e+01],\n",
       "       [ 9.87126023e+01],\n",
       "       [ 3.29848041e+01],\n",
       "       [ 3.48537702e+01],\n",
       "       [-1.43905866e+00],\n",
       "       [ 4.04822568e+00],\n",
       "       [-9.54787937e+00],\n",
       "       [ 1.06567244e+02],\n",
       "       [-1.35399909e+01],\n",
       "       [ 6.57839124e+01],\n",
       "       [ 6.90284374e+01],\n",
       "       [ 4.68251207e+01],\n",
       "       [-1.32907954e+01],\n",
       "       [ 2.07592742e+01],\n",
       "       [ 8.02522016e+01],\n",
       "       [ 1.92641013e+01],\n",
       "       [ 1.07942803e+02],\n",
       "       [ 1.57703808e+01],\n",
       "       [-1.00462703e+01],\n",
       "       [ 3.05144378e+00],\n",
       "       [-1.02954658e+01],\n",
       "       [ 8.01276038e+01],\n",
       "       [-1.14168454e+01],\n",
       "       [ 5.61799188e+01],\n",
       "       [ 4.17116296e+01],\n",
       "       [ 2.17427572e+00],\n",
       "       [ 8.00030061e+01],\n",
       "       [ 4.38347750e+01],\n",
       "       [ 6.54018042e+00],\n",
       "       [ 8.44935086e+01]])"
      ]
     },
     "execution_count": 22,
     "metadata": {},
     "output_type": "execute_result"
    }
   ],
   "source": [
    "y_pred = regressor.predict(x_test) \n",
    "y_pred\n",
    "y_test = regressor.predict(x_test) \n",
    "y_test\n"
   ]
  },
  {
   "cell_type": "markdown",
   "metadata": {},
   "source": [
    "### Step 6: Visualizing the test results"
   ]
  },
  {
   "cell_type": "code",
   "execution_count": 25,
   "metadata": {},
   "outputs": [
    {
     "data": {
      "image/png": "[encoded data removed]",
      "text/plain": [
       "<Figure size 432x288 with 1 Axes>"
      ]
     },
     "metadata": {
      "needs_background": "light"
     },
     "output_type": "display_data"
    }
   ],
   "source": [
    "#plot for the TRAIN\n",
    "import matplotlib.pyplot as plt\n",
    "plt.scatter(x_train, y_train, color='red') # plotting the observation line\n",
    " \n",
    "plt.plot(x_train, regressor.predict(x_train), color='blue') # plotting the regression line\n",
    " \n",
    "plt.title(\"Wind Speed vs Power (Training set)\") # stating the title of the graph\n",
    " \n",
    "plt.xlabel(\"Wind Speed\") # adding the name of x-axis\n",
    "plt.ylabel(\"Power\") # adding the name of y-axis\n",
    "plt.show() # specifies end of graph"
   ]
  },
  {
   "cell_type": "code",
   "execution_count": 26,
   "metadata": {},
   "outputs": [
    {
     "data": {
      "image/png": "[encoded data removed]",
      "text/plain": [
       "<Figure size 432x288 with 1 Axes>"
      ]
     },
     "metadata": {
      "needs_background": "light"
     },
     "output_type": "display_data"
    }
   ],
   "source": [
    "#plot for the TEST\n",
    " \n",
    "plt.scatter(x_test, y_test, color='red') \n",
    "plt.plot(x_train, regressor.predict(x_train), color='blue') # plotting the regression line\n",
    " \n",
    "plt.title(\"Wind Speed vs Power (Testing set)\")\n",
    " \n",
    "plt.xlabel(\"Wind Speed\") \n",
    "plt.ylabel(\"Power\") \n",
    "plt.show() "
   ]
  },
  {
   "cell_type": "markdown",
   "metadata": {},
   "source": [
    "#### Visualise the Data - fitting a simple linear regression model to get an understanding of the data\n",
    "\n",
    "Import matplotlib.pyplot "
   ]
  },
  {
   "cell_type": "code",
   "execution_count": 10,
   "metadata": {},
   "outputs": [
    {
     "data": {
      "image/png": "[encoded data removed]",
      "text/plain": [
       "<Figure size 1296x720 with 1 Axes>"
      ]
     },
     "metadata": {},
     "output_type": "display_data"
    }
   ],
   "source": [
    "\n",
    "import matplotlib.pyplot as plt\n",
    "\n",
    "plt.scatter(dfpower.speed, dfpower.power)\n",
    "plt.title('Power vs. Wind speed')\n",
    "plt.xlabel('Speed')\n",
    "plt.ylabel('Power')\n",
    "plt.show()"
   ]
  },
  {
   "cell_type": "code",
   "execution_count": 5,
   "metadata": {},
   "outputs": [
    {
     "data": {
      "image/png": "[encoded data removed]",
      "text/plain": [
       "<Figure size 432x288 with 1 Axes>"
      ]
     },
     "metadata": {
      "needs_background": "light"
     },
     "output_type": "display_data"
    }
   ],
   "source": [
    "import pandas as pd\n",
    "import numpy as np\n",
    "import matplotlib.pyplot as plt\n",
    "\n",
    "dfpower =pd.read_csv(\"https://raw.githubusercontent.com/ianmcloughlin/2020A-machstat-project/master/dataset/powerproduction.csv\")\n",
    "\n",
    "x = dfpower.speed\n",
    "y = dfpower.power\n",
    "\n",
    "plt.plot(dfpower.speed,dfpower.power, 'k.')\n",
    "\n",
    "# Overlay some lines on the plot.\n",
    "\n",
    "plt.plot(x, 5.0 * x + 10.0, 'r-', label=r\"$5x + 10$\")\n",
    "plt.plot(x, 6.0 * x +  5.0, 'g-', label=r\"$6x +  5$\")\n",
    "plt.plot(x, 5.0 * x + 15.0, 'b-', label=r\"$5x + 15$\")\n",
    "\n",
    "# Add a legend.\n",
    "plt.legend()\n",
    "\n",
    "# Add axis labels.\n",
    "plt.xlabel('speed')\n",
    "plt.ylabel('power')\n",
    "\n",
    "# Show the plot.\n",
    "plt.show()\n"
   ]
  },
  {
   "cell_type": "markdown",
   "metadata": {},
   "source": [
    "The graph above shows us that there is very little power when the speed is less than 10 meters per second and after 17 meters per second you are not generating any extra power. One would think the faster the wind turbine the more power you would generate but this is not the case. The most power generated is between the speeds of 10 and less than 20 meters per second. \n",
    "\n",
    "To look at other types of regression on this data set. The above scatter plot shows that the relationship between the variables are not a simple linear one . \n",
    "\n",
    "Other types of regressions are polynomial and logisical .\n",
    "\n",
    "NB: We look at the method of R-squared value to calculate the accuracy of the model used. This value is a number between 0 and 1. , and the closer you are to 1 , the more accurate the linear regression model is. We have to use Sklearn to determine this value as it is not implementede in NUMPY. \n",
    "\n",
    "1. Polynomial Regression \n",
    "\n",
    "Using NumPy Polyfit() Method to fit our data inside a polynomial function. It least squares the polynomial fit. It fits a polynomial p(x) of degree deg to points(x,y). This method returns a vector of coefficients p that minimises the squared error in the order of deg, deg-1, ... 0.\n",
    "\n",
    "The syntax:\n",
    "\n",
    "numpy.polyfit (X, Y, deg, rcond=None, full=False, w=None, cov=False)"
   ]
  },
  {
   "cell_type": "code",
   "execution_count": 73,
   "metadata": {},
   "outputs": [
    {
     "name": "stdout",
     "output_type": "stream",
     "text": [
      "\n",
      "coefficient value in case of linear polynomial:\n",
      " [  4.91759567 -13.89990263]\n"
     ]
    },
    {
     "data": {
      "text/plain": [
       "0.7289360258564073"
      ]
     },
     "execution_count": 73,
     "metadata": {},
     "output_type": "execute_result"
    },
    {
     "data": {
      "image/png": "[encoded data removed]",
      "text/plain": [
       "<Figure size 432x288 with 1 Axes>"
      ]
     },
     "metadata": {
      "needs_background": "light"
     },
     "output_type": "display_data"
    }
   ],
   "source": [
    "import seaborn as sns\n",
    "\n",
    "dfpower =pd.read_csv(\"https://raw.githubusercontent.com/ianmcloughlin/2020A-machstat-project/master/dataset/powerproduction.csv\")\n",
    "dfpower[0:6]\n",
    "x = dfpower.speed\n",
    "y = dfpower.power\n",
    "\n",
    "\n",
    "# calculating value of coefficients in case of linear polynomial - 2 constants\n",
    "z = np.polyfit(x, y, 1) # the last argument is the degree of polynomial\n",
    "poly1d_fn = np.poly1d(z)\n",
    "print(\"\\ncoefficient value in case of linear polynomial:\\n\", z)\n",
    "\n",
    "plt.plot(x,y, 'yo', x, poly1d_fn(x), '--k')\n",
    "\n",
    "#calculating the accuracy of the linear polynomial model using r2 values\n",
    "predict=np.poly1d(z)\n",
    "from sklearn.metrics import r2_score\n",
    "r2_score(y, predict(x))\n",
    "#0.7289360258564072\n",
    "\n",
    "#np.corrcoef(x, y)[0][1]**2\n"
   ]
  },
  {
   "cell_type": "code",
   "execution_count": 43,
   "metadata": {
    "scrolled": true
   },
   "outputs": [
    {
     "name": "stdout",
     "output_type": "stream",
     "text": [
      "          2\n",
      "-0.07022 x + 6.674 x - 21.23\n"
     ]
    },
    {
     "data": {
      "text/plain": [
       "0.7351940425885428"
      ]
     },
     "execution_count": 43,
     "metadata": {},
     "output_type": "execute_result"
    },
    {
     "data": {
      "image/png": "[encoded data removed]",
      "text/plain": [
       "<Figure size 432x288 with 1 Axes>"
      ]
     },
     "metadata": {
      "needs_background": "light"
     },
     "output_type": "display_data"
    }
   ],
   "source": [
    "# calculating value of coefficient in case of cubic polynomial - 3 constants\n",
    "\n",
    "z = np.polyfit(x,y,2)\n",
    "poly1d_fn = np.poly1d(z) \n",
    "print(poly1d_fn)\n",
    "# poly1d_fn is now a function which takes in x and returns an estimate for y\n",
    "\n",
    "plt.plot(x,y, 'yo', x, poly1d_fn(x), '--k')\n",
    "\n",
    "\n",
    "#calculating the accuracy of the cubic polynomial model using r2 values\n",
    "predict=np.poly1d(z)\n",
    "from sklearn.metrics import r2_score\n",
    "r2_score(y, predict(x))"
   ]
  },
  {
   "cell_type": "code",
   "execution_count": 44,
   "metadata": {},
   "outputs": [
    {
     "name": "stdout",
     "output_type": "stream",
     "text": [
      "          3         2\n",
      "-0.05242 x + 1.895 x - 12.94 x + 19.2\n"
     ]
    },
    {
     "data": {
      "text/plain": [
       "0.8796883953739737"
      ]
     },
     "execution_count": 44,
     "metadata": {},
     "output_type": "execute_result"
    },
    {
     "data": {
      "image/png": "[encoded data removed]",
      "text/plain": [
       "<Figure size 432x288 with 1 Axes>"
      ]
     },
     "metadata": {
      "needs_background": "light"
     },
     "output_type": "display_data"
    }
   ],
   "source": [
    "# calculating value of coefficient in case of quadratic polynomial - 4 constants\n",
    "\n",
    "\n",
    "z = np.polyfit(x,y,3)\n",
    "poly1d_fn = np.poly1d(z) \n",
    "print(poly1d_fn)\n",
    "# poly1d_fn is now a function which takes in x and returns an estimate for y\n",
    "\n",
    "plt.plot(x,y, 'yo', x, poly1d_fn(x), '--k')\n",
    "\n",
    "#calculating the accuracy of the quadratic polynomial model using r2 values\n",
    "predict=np.poly1d(z)\n",
    "from sklearn.metrics import r2_score\n",
    "r2_score(y, predict(x))\n"
   ]
  },
  {
   "cell_type": "code",
   "execution_count": 21,
   "metadata": {
    "scrolled": true
   },
   "outputs": [
    {
     "data": {
      "image/png": "[encoded data removed]",
      "text/plain": [
       "<Figure size 432x288 with 1 Axes>"
      ]
     },
     "metadata": {
      "needs_background": "light"
     },
     "output_type": "display_data"
    }
   ],
   "source": [
    "import numpy as np\n",
    "from sklearn.linear_model import LinearRegression\n",
    "from sklearn.preprocessing import PolynomialFeatures\n",
    "import pandas as pd\n",
    "\n",
    "import matplotlib.pyplot as plt\n",
    "\n",
    "dfpower =pd.read_csv(\"https://raw.githubusercontent.com/ianmcloughlin/2020A-machstat-project/master/dataset/powerproduction.csv\")\n",
    "\n",
    "x = dfpower.speed\n",
    "y = dfpower.power\n",
    "\n",
    "x = x.values.reshape(-1, 1)\n",
    "y = y.values.reshape(-1, 1)\n",
    "\n",
    "lin_reg = LinearRegression()\n",
    "lin_reg.fit(x,y)\n",
    "\n",
    "\n",
    "plt.scatter(x,y, color='red')\n",
    "plt.plot(x, lin_reg.predict(x),color='blue')\n",
    "plt.title(\"Truth or Bluff(Linear)\")\n",
    "plt.xlabel('speed')\n",
    "plt.ylabel('power')\n",
    "plt.show()"
   ]
  },
  {
   "cell_type": "code",
   "execution_count": 23,
   "metadata": {},
   "outputs": [
    {
     "data": {
      "text/plain": [
       "array([[ 0.   ],\n",
       "       [ 0.125],\n",
       "       [ 0.15 ],\n",
       "       [ 0.225],\n",
       "       [ 0.275],\n",
       "       [ 0.325],\n",
       "       [ 0.4  ],\n",
       "       [ 0.45 ],\n",
       "       [ 0.501],\n",
       "       [ 0.526],\n",
       "       [ 0.551],\n",
       "       [ 0.576],\n",
       "       [ 0.626],\n",
       "       [ 0.676],\n",
       "       [ 0.701],\n",
       "       [ 0.726],\n",
       "       [ 0.751],\n",
       "       [ 0.801],\n",
       "       [ 0.826],\n",
       "       [ 0.851],\n",
       "       [ 0.926],\n",
       "       [ 0.951],\n",
       "       [ 0.976],\n",
       "       [ 1.001],\n",
       "       [ 1.026],\n",
       "       [ 1.051],\n",
       "       [ 1.076],\n",
       "       [ 1.101],\n",
       "       [ 1.151],\n",
       "       [ 1.251],\n",
       "       [ 1.276],\n",
       "       [ 1.301],\n",
       "       [ 1.401],\n",
       "       [ 1.426],\n",
       "       [ 1.502],\n",
       "       [ 1.552],\n",
       "       [ 1.652],\n",
       "       [ 1.677],\n",
       "       [ 1.702],\n",
       "       [ 1.827],\n",
       "       [ 1.877],\n",
       "       [ 1.902],\n",
       "       [ 2.027],\n",
       "       [ 2.077],\n",
       "       [ 2.102],\n",
       "       [ 2.177],\n",
       "       [ 2.227],\n",
       "       [ 2.252],\n",
       "       [ 2.402],\n",
       "       [ 2.477],\n",
       "       [ 2.553],\n",
       "       [ 2.578],\n",
       "       [ 2.703],\n",
       "       [ 2.828],\n",
       "       [ 2.853],\n",
       "       [ 2.953],\n",
       "       [ 3.003],\n",
       "       [ 3.028],\n",
       "       [ 3.053],\n",
       "       [ 3.078],\n",
       "       [ 3.128],\n",
       "       [ 3.203],\n",
       "       [ 3.378],\n",
       "       [ 3.403],\n",
       "       [ 3.428],\n",
       "       [ 3.504],\n",
       "       [ 3.529],\n",
       "       [ 3.579],\n",
       "       [ 3.604],\n",
       "       [ 3.629],\n",
       "       [ 3.679],\n",
       "       [ 3.704],\n",
       "       [ 3.729],\n",
       "       [ 3.779],\n",
       "       [ 3.804],\n",
       "       [ 3.879],\n",
       "       [ 3.904],\n",
       "       [ 3.929],\n",
       "       [ 3.954],\n",
       "       [ 3.979],\n",
       "       [ 4.179],\n",
       "       [ 4.304],\n",
       "       [ 4.329],\n",
       "       [ 4.429],\n",
       "       [ 4.53 ],\n",
       "       [ 4.555],\n",
       "       [ 4.605],\n",
       "       [ 4.73 ],\n",
       "       [ 4.78 ],\n",
       "       [ 4.88 ],\n",
       "       [ 4.905],\n",
       "       [ 4.93 ],\n",
       "       [ 4.955],\n",
       "       [ 4.98 ],\n",
       "       [ 5.03 ],\n",
       "       [ 5.08 ],\n",
       "       [ 5.13 ],\n",
       "       [ 5.18 ],\n",
       "       [ 5.205],\n",
       "       [ 5.255],\n",
       "       [ 5.28 ],\n",
       "       [ 5.305],\n",
       "       [ 5.43 ],\n",
       "       [ 5.455],\n",
       "       [ 5.506],\n",
       "       [ 5.556],\n",
       "       [ 5.631],\n",
       "       [ 5.681],\n",
       "       [ 5.706],\n",
       "       [ 5.731],\n",
       "       [ 5.781],\n",
       "       [ 5.806],\n",
       "       [ 5.831],\n",
       "       [ 5.906],\n",
       "       [ 5.931],\n",
       "       [ 5.956],\n",
       "       [ 5.981],\n",
       "       [ 6.006],\n",
       "       [ 6.031],\n",
       "       [ 6.081],\n",
       "       [ 6.106],\n",
       "       [ 6.131],\n",
       "       [ 6.156],\n",
       "       [ 6.181],\n",
       "       [ 6.231],\n",
       "       [ 6.356],\n",
       "       [ 6.406],\n",
       "       [ 6.456],\n",
       "       [ 6.481],\n",
       "       [ 6.607],\n",
       "       [ 6.682],\n",
       "       [ 6.732],\n",
       "       [ 6.757],\n",
       "       [ 6.782],\n",
       "       [ 6.832],\n",
       "       [ 6.857],\n",
       "       [ 6.957],\n",
       "       [ 6.982],\n",
       "       [ 7.057],\n",
       "       [ 7.082],\n",
       "       [ 7.107],\n",
       "       [ 7.157],\n",
       "       [ 7.182],\n",
       "       [ 7.207],\n",
       "       [ 7.232],\n",
       "       [ 7.257],\n",
       "       [ 7.307],\n",
       "       [ 7.382],\n",
       "       [ 7.407],\n",
       "       [ 7.432],\n",
       "       [ 7.508],\n",
       "       [ 7.558],\n",
       "       [ 7.608],\n",
       "       [ 7.633],\n",
       "       [ 7.683],\n",
       "       [ 7.708],\n",
       "       [ 7.733],\n",
       "       [ 7.808],\n",
       "       [ 7.833],\n",
       "       [ 7.858],\n",
       "       [ 7.883],\n",
       "       [ 7.908],\n",
       "       [ 7.933],\n",
       "       [ 8.033],\n",
       "       [ 8.083],\n",
       "       [ 8.133],\n",
       "       [ 8.183],\n",
       "       [ 8.208],\n",
       "       [ 8.308],\n",
       "       [ 8.408],\n",
       "       [ 8.458],\n",
       "       [ 8.534],\n",
       "       [ 8.634],\n",
       "       [ 8.659],\n",
       "       [ 8.684],\n",
       "       [ 8.759],\n",
       "       [ 8.834],\n",
       "       [ 8.859],\n",
       "       [ 8.884],\n",
       "       [ 8.959],\n",
       "       [ 9.209],\n",
       "       [ 9.259],\n",
       "       [ 9.309],\n",
       "       [ 9.434],\n",
       "       [ 9.535],\n",
       "       [ 9.56 ],\n",
       "       [ 9.61 ],\n",
       "       [ 9.735],\n",
       "       [ 9.81 ],\n",
       "       [ 9.835],\n",
       "       [ 9.86 ],\n",
       "       [ 9.885],\n",
       "       [ 9.935],\n",
       "       [ 9.96 ],\n",
       "       [ 9.985],\n",
       "       [10.035],\n",
       "       [10.085],\n",
       "       [10.11 ],\n",
       "       [10.135],\n",
       "       [10.16 ],\n",
       "       [10.185],\n",
       "       [10.21 ],\n",
       "       [10.235],\n",
       "       [10.26 ],\n",
       "       [10.285],\n",
       "       [10.36 ],\n",
       "       [10.385],\n",
       "       [10.485],\n",
       "       [10.511],\n",
       "       [10.561],\n",
       "       [10.661],\n",
       "       [10.711],\n",
       "       [10.736],\n",
       "       [10.761],\n",
       "       [10.886],\n",
       "       [10.961],\n",
       "       [10.986],\n",
       "       [11.011],\n",
       "       [11.036],\n",
       "       [11.111],\n",
       "       [11.161],\n",
       "       [11.211],\n",
       "       [11.286],\n",
       "       [11.311],\n",
       "       [11.336],\n",
       "       [11.361],\n",
       "       [11.386],\n",
       "       [11.612],\n",
       "       [11.662],\n",
       "       [11.687],\n",
       "       [11.737],\n",
       "       [11.787],\n",
       "       [11.812],\n",
       "       [11.862],\n",
       "       [11.937],\n",
       "       [11.962],\n",
       "       [11.987],\n",
       "       [12.037],\n",
       "       [12.162],\n",
       "       [12.187],\n",
       "       [12.212],\n",
       "       [12.262],\n",
       "       [12.287],\n",
       "       [12.337],\n",
       "       [12.362],\n",
       "       [12.387],\n",
       "       [12.412],\n",
       "       [12.462],\n",
       "       [12.487],\n",
       "       [12.538],\n",
       "       [12.563],\n",
       "       [12.588],\n",
       "       [12.613],\n",
       "       [12.663],\n",
       "       [12.713],\n",
       "       [12.738],\n",
       "       [12.788],\n",
       "       [12.863],\n",
       "       [12.888],\n",
       "       [12.963],\n",
       "       [12.988],\n",
       "       [13.038],\n",
       "       [13.263],\n",
       "       [13.313],\n",
       "       [13.338],\n",
       "       [13.388],\n",
       "       [13.438],\n",
       "       [13.539],\n",
       "       [13.564],\n",
       "       [13.714],\n",
       "       [13.739],\n",
       "       [13.939],\n",
       "       [13.964],\n",
       "       [13.989],\n",
       "       [14.014],\n",
       "       [14.039],\n",
       "       [14.139],\n",
       "       [14.189],\n",
       "       [14.264],\n",
       "       [14.289],\n",
       "       [14.339],\n",
       "       [14.364],\n",
       "       [14.389],\n",
       "       [14.489],\n",
       "       [14.54 ],\n",
       "       [14.59 ],\n",
       "       [14.615],\n",
       "       [14.64 ],\n",
       "       [14.715],\n",
       "       [14.74 ],\n",
       "       [14.765],\n",
       "       [14.84 ],\n",
       "       [14.865],\n",
       "       [15.065],\n",
       "       [15.115],\n",
       "       [15.14 ],\n",
       "       [15.165],\n",
       "       [15.19 ],\n",
       "       [15.215],\n",
       "       [15.24 ],\n",
       "       [15.265],\n",
       "       [15.315],\n",
       "       [15.34 ],\n",
       "       [15.415],\n",
       "       [15.465],\n",
       "       [15.49 ],\n",
       "       [15.541],\n",
       "       [15.591],\n",
       "       [15.666],\n",
       "       [15.716],\n",
       "       [15.741],\n",
       "       [15.766],\n",
       "       [15.816],\n",
       "       [15.916],\n",
       "       [15.991],\n",
       "       [16.041],\n",
       "       [16.066],\n",
       "       [16.091],\n",
       "       [16.191],\n",
       "       [16.241],\n",
       "       [16.291],\n",
       "       [16.366],\n",
       "       [16.441],\n",
       "       [16.466],\n",
       "       [16.567],\n",
       "       [16.592],\n",
       "       [16.617],\n",
       "       [16.667],\n",
       "       [16.692],\n",
       "       [16.717],\n",
       "       [16.792],\n",
       "       [16.842],\n",
       "       [16.917],\n",
       "       [16.942],\n",
       "       [16.967],\n",
       "       [16.992],\n",
       "       [17.017],\n",
       "       [17.067],\n",
       "       [17.117],\n",
       "       [17.142],\n",
       "       [17.167],\n",
       "       [17.267],\n",
       "       [17.317],\n",
       "       [17.342],\n",
       "       [17.367],\n",
       "       [17.417],\n",
       "       [17.442],\n",
       "       [17.467],\n",
       "       [17.492],\n",
       "       [17.518],\n",
       "       [17.543],\n",
       "       [17.568],\n",
       "       [17.593],\n",
       "       [17.618],\n",
       "       [17.643],\n",
       "       [17.793],\n",
       "       [17.818],\n",
       "       [17.843],\n",
       "       [17.893],\n",
       "       [18.043],\n",
       "       [18.068],\n",
       "       [18.093],\n",
       "       [18.218],\n",
       "       [18.268],\n",
       "       [18.318],\n",
       "       [18.368],\n",
       "       [18.393],\n",
       "       [18.418],\n",
       "       [18.519],\n",
       "       [18.544],\n",
       "       [18.594],\n",
       "       [18.619],\n",
       "       [18.694],\n",
       "       [18.744],\n",
       "       [18.769],\n",
       "       [18.794],\n",
       "       [18.844],\n",
       "       [18.869],\n",
       "       [18.919],\n",
       "       [18.944],\n",
       "       [18.994],\n",
       "       [19.044],\n",
       "       [19.069],\n",
       "       [19.094],\n",
       "       [19.169],\n",
       "       [19.194],\n",
       "       [19.269],\n",
       "       [19.444],\n",
       "       [19.545],\n",
       "       [19.57 ],\n",
       "       [19.595],\n",
       "       [19.62 ],\n",
       "       [19.645],\n",
       "       [19.67 ],\n",
       "       [19.695],\n",
       "       [19.72 ],\n",
       "       [19.77 ],\n",
       "       [19.795],\n",
       "       [19.82 ],\n",
       "       [19.845],\n",
       "       [19.895],\n",
       "       [19.945],\n",
       "       [19.97 ],\n",
       "       [20.045],\n",
       "       [20.095],\n",
       "       [20.12 ],\n",
       "       [20.145],\n",
       "       [20.17 ],\n",
       "       [20.22 ],\n",
       "       [20.27 ],\n",
       "       [20.295],\n",
       "       [20.32 ],\n",
       "       [20.345],\n",
       "       [20.47 ],\n",
       "       [20.521],\n",
       "       [20.571],\n",
       "       [20.646],\n",
       "       [20.671],\n",
       "       [20.771],\n",
       "       [20.796],\n",
       "       [20.871],\n",
       "       [21.046],\n",
       "       [21.071],\n",
       "       [21.121],\n",
       "       [21.321],\n",
       "       [21.396],\n",
       "       [21.421],\n",
       "       [21.446],\n",
       "       [21.471],\n",
       "       [21.496],\n",
       "       [21.622],\n",
       "       [21.672],\n",
       "       [21.722],\n",
       "       [21.822],\n",
       "       [21.847],\n",
       "       [21.922],\n",
       "       [22.022],\n",
       "       [22.072],\n",
       "       [22.147],\n",
       "       [22.222],\n",
       "       [22.247],\n",
       "       [22.272],\n",
       "       [22.297],\n",
       "       [22.322],\n",
       "       [22.347],\n",
       "       [22.422],\n",
       "       [22.472],\n",
       "       [22.497],\n",
       "       [22.523],\n",
       "       [22.623],\n",
       "       [22.673],\n",
       "       [22.723],\n",
       "       [22.773],\n",
       "       [22.798],\n",
       "       [22.823],\n",
       "       [22.873],\n",
       "       [22.998],\n",
       "       [23.023],\n",
       "       [23.123],\n",
       "       [23.223],\n",
       "       [23.248],\n",
       "       [23.273],\n",
       "       [23.298],\n",
       "       [23.323],\n",
       "       [23.348],\n",
       "       [23.373],\n",
       "       [23.423],\n",
       "       [23.473],\n",
       "       [23.498],\n",
       "       [23.549],\n",
       "       [23.574],\n",
       "       [23.599],\n",
       "       [23.624],\n",
       "       [23.699],\n",
       "       [23.724],\n",
       "       [23.799],\n",
       "       [23.824],\n",
       "       [23.849],\n",
       "       [23.899],\n",
       "       [23.949],\n",
       "       [23.974],\n",
       "       [24.024],\n",
       "       [24.049],\n",
       "       [24.174],\n",
       "       [24.199],\n",
       "       [24.249],\n",
       "       [24.299],\n",
       "       [24.349],\n",
       "       [24.374],\n",
       "       [24.399],\n",
       "       [24.499],\n",
       "       [24.525],\n",
       "       [24.575],\n",
       "       [24.65 ],\n",
       "       [24.75 ],\n",
       "       [24.775],\n",
       "       [24.85 ],\n",
       "       [24.875],\n",
       "       [24.95 ],\n",
       "       [25.   ]])"
      ]
     },
     "execution_count": 23,
     "metadata": {},
     "output_type": "execute_result"
    }
   ],
   "source": [
    "from sklearn.preprocessing import PolynomialFeatures\n",
    "poly_reg = PolynomialFeatures(degree=2)\n",
    "x_poly = poly_reg.fit_transform(x)\n",
    "x"
   ]
  },
  {
   "cell_type": "code",
   "execution_count": 24,
   "metadata": {},
   "outputs": [
    {
     "data": {
      "text/plain": [
       "LinearRegression()"
      ]
     },
     "execution_count": 24,
     "metadata": {},
     "output_type": "execute_result"
    }
   ],
   "source": [
    "lin_reg2 = LinearRegression()\n",
    "lin_reg2.fit(x_poly,y)"
   ]
  },
  {
   "cell_type": "code",
   "execution_count": 25,
   "metadata": {
    "scrolled": false
   },
   "outputs": [
    {
     "data": {
      "image/png": "[encoded data removed]",
      "text/plain": [
       "<Figure size 432x288 with 1 Axes>"
      ]
     },
     "metadata": {
      "needs_background": "light"
     },
     "output_type": "display_data"
    }
   ],
   "source": [
    "from sklearn.preprocessing import PolynomialFeatures\n",
    "poly_reg = PolynomialFeatures(degree=4)\n",
    "x_poly = poly_reg.fit_transform(x)\n",
    "lin_reg2 = LinearRegression()\n",
    "lin_reg2.fit(x_poly,y)\n",
    " \n",
    "x_grid = np.arange(min(x),max(x),0.1)\n",
    "x_grid = x_grid.reshape(len(x_grid),1) \n",
    "plt.scatter(x,y, color='red') \n",
    " \n",
    "plt.plot(x_grid, lin_reg2.predict(poly_reg.fit_transform(x_grid)),color='blue') \n",
    " \n",
    "plt.title(\"Truth or Bluff(Polynomial)\")\n",
    "plt.xlabel('speed')\n",
    "plt.ylabel('power')\n",
    "plt.show()"
   ]
  },
  {
   "cell_type": "code",
   "execution_count": 27,
   "metadata": {},
   "outputs": [
    {
     "data": {
      "text/plain": [
       "array([[59.86403235]])"
      ]
     },
     "execution_count": 27,
     "metadata": {},
     "output_type": "execute_result"
    }
   ],
   "source": [
    "#predictions : \n",
    "\n",
    "lin_reg.predict([[15]])\n",
    "\n"
   ]
  },
  {
   "cell_type": "code",
   "execution_count": 32,
   "metadata": {
    "scrolled": true
   },
   "outputs": [
    {
     "data": {
      "text/plain": [
       "array([[70.58313295]])"
      ]
     },
     "execution_count": 32,
     "metadata": {},
     "output_type": "execute_result"
    }
   ],
   "source": [
    "lin_reg2.predict( poly_reg.fit_transform([[15]]))\n"
   ]
  },
  {
   "cell_type": "code",
   "execution_count": 42,
   "metadata": {},
   "outputs": [
    {
     "data": {
      "text/plain": [
       "<AxesSubplot:xlabel='wind', ylabel='power'>"
      ]
     },
     "execution_count": 42,
     "metadata": {},
     "output_type": "execute_result"
    },
    {
     "data": {
      "image/png": "[encoded data removed]",
      "text/plain": [
       "<Figure size 432x288 with 1 Axes>"
      ]
     },
     "metadata": {
      "needs_background": "light"
     },
     "output_type": "display_data"
    }
   ],
   "source": [
    "import numpy as np\n",
    "import pandas as pd\n",
    "\n",
    "\n",
    "a,m,n,t =2011.1 ,2.6650,622.922,1.4090\n",
    "u=dfpower.speed\n",
    "p_u =a * (1.0 +m*np.exp(-u/t))/(1.0 +n* np.exp(-u/t))\n",
    "df2=pd.DataFrame({\"wind\":u,\"power\":p_u})\n",
    "df2\n",
    "\n",
    "\n",
    "import seaborn as sns\n",
    "sns.scatterplot( data =df2 ,x=\"wind\",y=\"power\")"
   ]
  },
  {
   "cell_type": "markdown",
   "metadata": {},
   "source": [
    "References : \n",
    "\n",
    "\n"
   ]
  },
  {
   "cell_type": "markdown",
   "metadata": {},
   "source": [
    "[1] https://learnonline.gmit.ie/course/view.php?id=1120#section-10 - Topic 4  Datasets - Plotting the equation . Ian Mcloughlin \n",
    "[2] https://stackoverflow.com/questions/6148207/linear-regression-with-matplotlib-numpy\n",
    "[3] https://www.codespeedy.com/numpy-polyfit-in-python/\n",
    "[4] https://appdividend.com/2020/06/03/numpy-polyfit-method-in-python/#:~:text=Numpy%20polyfit%20%28%29%20method%20is%20used%20to%20fit,error%20in%20the%20order%20deg%2C%20deg-1%2C%20%E2%80%A6.%200.\n",
    "[5] https://data36.com/linear-regression-in-python-numpy-polyfit/\n",
    "\n",
    "[6] https://www.askpython.com/python/examples/polynomial-regression-in-python#:~:text=%20A%20Simple%20Example%20of%20Polynomial%20Regression%20in,are%20using%20this%20to%20compare%20the...%20More%20\n",
    "[7] https://iq.opengenus.org/polynomial-regression-using-scikit-learn/\n",
    "[8] https://www.statology.org/remove-outliers-python/"
   ]
  }
 ],
 "metadata": {
  "kernelspec": {
   "display_name": "Python 3",
   "language": "python",
   "name": "python3"
  },
  "language_info": {
   "codemirror_mode": {
    "name": "ipython",
    "version": 3
   },
   "file_extension": ".py",
   "mimetype": "text/x-python",
   "name": "python",
   "nbconvert_exporter": "python",
   "pygments_lexer": "ipython3",
   "version": "3.8.5"
  }
 },
 "nbformat": 4,
 "nbformat_minor": 2
}
