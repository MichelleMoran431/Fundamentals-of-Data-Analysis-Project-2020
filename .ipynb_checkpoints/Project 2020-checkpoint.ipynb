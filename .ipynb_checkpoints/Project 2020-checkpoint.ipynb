{
 "cells": [
  {
   "cell_type": "markdown",
   "metadata": {},
   "source": [
    "Fundamentals of Data Analysis Project 2020\n",
    "\n",
    "Student : Michelle Moran \n",
    "\n",
    "Task details : \n",
    "\n",
    "\n",
    "Perform and explain simple linear regression using Python on the powerproduction dataset\n",
    "\n",
    "Goal : Accurately predict wind turbine output from wind speed values using the data set as a basis.\n",
    "Using GIT repository  for the submission including the following items : \n",
    "\n",
    "1. Jupyter notebook that performs simple linear regression on the data set\n",
    "2. An explanation of your regression and an analysis of the accuracy\n",
    "3. Standard items in a git repository such as a README\n",
    "4. Compare a simple linear regression to other types of regression on this data set\n"
   ]
  },
  {
   "cell_type": "markdown",
   "metadata": {},
   "source": [
    "References : \n",
    "\n",
    "\n"
   ]
  }
 ],
 "metadata": {
  "kernelspec": {
   "display_name": "Python 3",
   "language": "python",
   "name": "python3"
  },
  "language_info": {
   "codemirror_mode": {
    "name": "ipython",
    "version": 3
   },
   "file_extension": ".py",
   "mimetype": "text/x-python",
   "name": "python",
   "nbconvert_exporter": "python",
   "pygments_lexer": "ipython3",
   "version": "3.7.4"
  }
 },
 "nbformat": 4,
 "nbformat_minor": 2
}
